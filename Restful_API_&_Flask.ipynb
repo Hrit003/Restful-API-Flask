{
  "nbformat": 4,
  "nbformat_minor": 0,
  "metadata": {
    "colab": {
      "provenance": []
    },
    "kernelspec": {
      "name": "python3",
      "display_name": "Python 3"
    },
    "language_info": {
      "name": "python"
    }
  },
  "cells": [
    {
      "cell_type": "markdown",
      "source": [
        "#Theoritical questions"
      ],
      "metadata": {
        "id": "Ndtl-29ezHXB"
      }
    },
    {
      "cell_type": "markdown",
      "source": [
        "[1] **What is a RESTful AP?**\n",
        "\n",
        "=> A RESTful API (short for Representational State Transfer Application Programming Interface) is a way for different software applications to communicate with each other over the web using standard HTTP methods."
      ],
      "metadata": {
        "id": "DKIcURTOzM3i"
      }
    },
    {
      "cell_type": "markdown",
      "source": [
        "[2] **Explain the concept of API specification.**\n",
        "\n",
        "=> An API specification is a detailed blueprint or contract that defines how an API works and how clients should interact with it.\n",
        "\n",
        "Think of it as a manual or agreement between the API provider (server) and the API consumer (client).\n",
        "\n",
        "It tells developers:\n",
        "\n",
        "* What endpoints exist (URLs like /users, /orders).\n",
        "\n",
        "* What methods to use (GET, POST, PUT, DELETE).\n",
        "\n",
        "* What data is required (request parameters, headers, body).\n",
        "\n",
        "* What data is returned (response format, success/error codes)."
      ],
      "metadata": {
        "id": "Q66pnlPkzgpw"
      }
    },
    {
      "cell_type": "markdown",
      "source": [
        "[3] **What is Flask, and why is it popular for building APIs?**\n",
        "\n",
        "=> Flask is a lightweight, open-source web framework for Python.It’s called a “microframework” because it provides the essential tools to build web applications and APIs but doesn’t force a specific project structure or include too many built-in features.\n",
        "\n",
        "Flask is popular for APIs because it’s simple, lightweight, flexible, and has a rich ecosystem of extensions. It’s perfect for small to medium projects, quick prototypes, and learning API development."
      ],
      "metadata": {
        "id": "YystBLBo0F33"
      }
    },
    {
      "cell_type": "markdown",
      "source": [
        "[4] **What is routing in Flask?**\n",
        "\n",
        "=> In Flask, routing is the process of mapping a URL (web address) to a function in your Python code.\n",
        "\n",
        "* When a user visits a URL in the browser (like http://localhost:5000/home), Flask looks for a route (path) that matches it.\n",
        "\n",
        "* If it finds a match, it runs the corresponding view function and returns the result (HTML, JSON, text, etc.) as the response."
      ],
      "metadata": {
        "id": "MmQbqsOX0nHl"
      }
    },
    {
      "cell_type": "markdown",
      "source": [
        "[5] **How do you create a simple Flask application?**\n",
        "\n",
        "=> A simple Flask app is just:\n",
        "\n",
        "1. Import Flask\n",
        "\n",
        "2. Create an app object\n",
        "\n",
        "3. Define routes with @app.route\n",
        "\n",
        "4. Run the app"
      ],
      "metadata": {
        "id": "niL6hv5C052b"
      }
    },
    {
      "cell_type": "markdown",
      "source": [
        "[6] **What are HTTP methods used in RESTful APIs?**\n",
        "\n",
        "=> RESTful APIs mainly use GET, POST, PUT, PATCH, DELETE to perform CRUD operations:\n",
        "\n",
        "* Create → POST\n",
        "\n",
        "* Read → GET\n",
        "\n",
        "* Update → PUT / PATCH\n",
        "\n",
        "* Delete → DELETE"
      ],
      "metadata": {
        "id": "UKbSGDQL1Vnn"
      }
    },
    {
      "cell_type": "markdown",
      "source": [
        "[7] **What is the purpose of the @app.route() decorator in Flask?**\n",
        "\n",
        "=> In Flask, the @app.route() decorator is used to map a URL (route) to a Python function (called a view function).\n",
        "\n",
        "In simple words:\n",
        "It tells Flask “When a user visits this URL, run this function and return its result.”"
      ],
      "metadata": {
        "id": "kK0JbhAb2ARv"
      }
    },
    {
      "cell_type": "markdown",
      "source": [
        "[8] **What is the difference between GET and POST HTTP methods?**\n",
        "\n",
        "=> Here are some differences between GET and POST;\n",
        "\n",
        "* GET's purpose is data retrive and POST submits or creates data.\n",
        "\n",
        "* POST is more secure than GET.\n",
        "\n",
        "* POST data size is large and GET data size is limited.\n",
        "\n",
        "* POST is hidden in URL but GET is visible."
      ],
      "metadata": {
        "id": "PAKV-Can24vu"
      }
    },
    {
      "cell_type": "markdown",
      "source": [
        "[9] **How do you handle errors in Flask APIs?**\n",
        "\n",
        "=> Ways to Handle Errors in Flask APIs\n",
        "\n",
        "1. Using abort()\n",
        "\n",
        "2. Handling Exceptions\n",
        "\n",
        "3. Custom Error Handlers\n",
        "\n",
        "4. Validation Errors"
      ],
      "metadata": {
        "id": "dqKbQz9S4sHh"
      }
    },
    {
      "cell_type": "markdown",
      "source": [
        "[10] **How do you connect Flask to a SQL database?**\n",
        "\n",
        "=> There are two main approaches:\n",
        "\n",
        "1. Using raw SQL with sqlite3 or another driver\n",
        "(good for very small apps, but not scalable).\n",
        "\n",
        "2. Using an ORM (Object Relational Mapper) like SQLAlchemy\n",
        "(the most popular way — Flask has Flask-SQLAlchemy extension for this)."
      ],
      "metadata": {
        "id": "yIxuBFjR6aMZ"
      }
    },
    {
      "cell_type": "markdown",
      "source": [
        "[11] **What is the role of Flask-SQLAlchemy?**\n",
        "\n",
        "=> Flask-SQLAlchemy is a Flask extension that integrates SQLAlchemy (a powerful Python ORM) into Flask applications.\n",
        "\n",
        "The role of Flask-SQLAlchemy is to:\n",
        "\n",
        "* Simplify database setup in Flask.\n",
        "\n",
        "* Provide an ORM layer (tables as Python classes).\n",
        "\n",
        "* Handle database sessions & queries cleanly.\n",
        "\n",
        "* Make apps database-independent."
      ],
      "metadata": {
        "id": "QNPDO1If7Ahk"
      }
    },
    {
      "cell_type": "markdown",
      "source": [
        "[12] **What are Flask blueprints, and how are they useful?**\n",
        "\n",
        "=> Flask Blueprints are a way to organize and structure a Flask application into smaller, modular components. Instead of putting all routes, views, error handlers, and logic inside a single app.py file, Blueprints allow you to split them into reusable modules that can be registered on your main Flask application.\n",
        "\n",
        "**How Useful**\n",
        "\n",
        "* Code Organization\n",
        "* Reusability\n",
        "* Maintainability\n",
        "* Team Collaboration\n",
        "* Clean URL Prefixing"
      ],
      "metadata": {
        "id": "5d1gfF7vgFfO"
      }
    },
    {
      "cell_type": "markdown",
      "source": [
        "[13] **What is the purpose of Flask's request object?**\n",
        "\n",
        "=> In Flask, the request object is a global object that represents the current HTTP request being handled by the application. It’s provided by Flask (via Werkzeug) and contains all the data sent by the client (browser, API client, etc.) in the request.\n",
        "\n",
        "Purpose of Flask’s request object\n",
        "\n",
        "The request object allows your Flask application to:\n",
        "\n",
        "1. Access request data (like form inputs, JSON payloads, query parameters).\n",
        "\n",
        "2. Know request context (such as method, headers, cookies, and URL).\n",
        "\n",
        "3. Handle different request types (GET, POST, PUT, DELETE, etc.)."
      ],
      "metadata": {
        "id": "gNU2HG3Ygz2f"
      }
    },
    {
      "cell_type": "markdown",
      "source": [
        "[14] **How do you create a RESTful API endpoint using Flask?**\n",
        "\n",
        "=> To create a RESTful API in Flask, we:\n",
        "\n",
        "1. Define routes (@app.route).\n",
        "\n",
        "2. Use HTTP methods (GET, POST, PUT, DELETE).\n",
        "\n",
        "3. Work with JSON using request.json and jsonify()."
      ],
      "metadata": {
        "id": "5YS9WmH9hS60"
      }
    },
    {
      "cell_type": "markdown",
      "source": [
        "[15] **What is the purpose of Flask's jsonify() function?**\n",
        "\n",
        "=> In Flask, the purpose of the jsonify() function is to convert Python data structures into a valid JSON response that can be sent back to the client (browser, mobile app, API consumer, etc.).\n",
        "\n",
        "The purpose of jsonify() is to:\n",
        "\n",
        "* Convert Python objects (dict, list, etc.) → JSON string\n",
        "\n",
        "* Add the correct Content-Type: application/json header\n",
        "\n",
        "* Ensure a proper HTTP response object for APIs."
      ],
      "metadata": {
        "id": "wcBJXGGciBqv"
      }
    },
    {
      "cell_type": "markdown",
      "source": [
        "[16] **Explain Flask’s url_for() function.**\n",
        "\n",
        "=> In Flask, the url_for() function is used to generate URLs dynamically for routes (endpoints) in your application.\n",
        "\n",
        "Instead of hardcoding URLs like \"/home\" or \"/login\", you use url_for('endpoint_name'), and Flask will build the correct URL for you.\n",
        "\n",
        "**Why is url_for() useful?**\n",
        "\n",
        "* Dynamically generate URLs for endpoints.\n",
        "\n",
        "* Prevent broken links if routes change.\n",
        "\n",
        "* Handle variables & query parameters automatically.\n",
        "\n",
        "* Make templates and redirects cleaner and safer."
      ],
      "metadata": {
        "id": "G-ILVJK-imY-"
      }
    },
    {
      "cell_type": "markdown",
      "source": [
        "[17] **How does Flask handle static files (CSS, JavaScript, etc.)?**\n",
        "\n",
        "=>\n",
        "1. Flask automatically looks for a folder named static/ inside your project directory.\n",
        "\n",
        "2. Any file you put inside static/ can be accessed via a URL like:\n",
        "\n",
        "3. In templates (Jinja2), you should use url_for('static', filename='...') instead of hardcoding paths.\n",
        "This makes paths dynamic and prevents issues if your app is deployed under a different URL prefix."
      ],
      "metadata": {
        "id": "CxMFsUtTjHge"
      }
    },
    {
      "cell_type": "markdown",
      "source": [
        "[18] **What is an API specification, and how does it help in building a Flask API?**\n",
        "\n",
        "=> An API specification is a formal, machine-readable description of how an API works.\n",
        "It defines:\n",
        "\n",
        "* Endpoints (routes/URLs) – what paths exist (e.g., /users, /books/<id>)\n",
        "\n",
        "* HTTP methods – allowed operations (GET, POST, PUT, DELETE)\n",
        "\n",
        "* Request parameters – query params, headers, body (form/JSON)\n",
        "\n",
        "* Response format – structure of JSON/XML returned, status codes\n",
        "\n",
        "* Error handling – what error codes and messages look like\n",
        "\n",
        "It improves clarity, consistency, validation, documentation, and collaboration, making APIs easier to build, use, and maintain."
      ],
      "metadata": {
        "id": "_Am5UfMGj0MZ"
      }
    },
    {
      "cell_type": "markdown",
      "source": [
        "[19] **What are HTTP status codes, and why are they important in a Flask API?**\n",
        "\n",
        "=> HTTP status codes are 3-digit numbers returned by a web server (or API) in response to a client’s request.\n",
        "They indicate whether the request was successful, failed, redirected, or had errors.\n",
        "\n",
        "For example:\n",
        "\n",
        "* 200 OK → request succeeded\n",
        "\n",
        "* 404 Not Found → resource doesn’t exist\n",
        "\n",
        "* 500 Internal Server Error → something broke on the server\n",
        "\n",
        "**Why Important**\n",
        "\n",
        "* Communicate Outcome Clearly\n",
        "\n",
        "* Enable Proper Error Handling\n",
        "\n",
        "* Improve API Consistency\n",
        "\n",
        "* Work with Tools & Frameworks"
      ],
      "metadata": {
        "id": "fcOOlBuNkbd0"
      }
    },
    {
      "cell_type": "markdown",
      "source": [
        "[20] **How do you handle POST requests in Flask?**\n",
        "\n",
        "=> A POST request is an HTTP request method used to send data to the server — typically when creating a new resource (like a new user, blog post, or order).\n",
        "\n",
        "In Flask, you handle POST requests by:\n",
        "\n",
        "1. Defining a route with methods=['POST'].\n",
        "\n",
        "2. Extracting the data from request.form (form data), request.json (JSON payload), or request.files (uploads).\n",
        "\n",
        "3. Processing the data (store in DB, perform logic, etc.).\n",
        "\n",
        "4. Returning a response (often JSON + a status code)."
      ],
      "metadata": {
        "id": "0lyyKFk9lHF8"
      }
    },
    {
      "cell_type": "markdown",
      "source": [
        "[21] **How would you secure a Flask API?**\n",
        "\n",
        "=> To secure a Flask API, you should:\n",
        "* Use HTTPS\n",
        "* Add Authentication & Authorization (JWT, API keys, OAuth2)\n",
        "* Validate all inputs (Marshmallow/Pydantic)\n",
        "* Apply Rate Limiting\n",
        "* Handle errors securely (no debug info in production)\n",
        "* Configure CORS properly\n",
        "* Store secrets securely (env vars, not code)\n",
        "* Monitor and log suspicious activity"
      ],
      "metadata": {
        "id": "fmWJ8oZClYzX"
      }
    },
    {
      "cell_type": "markdown",
      "source": [
        "[22] **What is the significance of the Flask-RESTful extension?**\n",
        "\n",
        "=> Flask-RESTful is an extension for Flask that helps you build REST APIs more quickly and in a more structured way.\n",
        "\n",
        "The significance of Flask-RESTful is that it:\n",
        "\n",
        "* Provides a class-based structure (Resource) for REST APIs.\n",
        "\n",
        "* Simplifies request parsing & validation.\n",
        "\n",
        "* Returns JSON responses consistently.\n",
        "\n",
        "* Handles errors gracefully.\n",
        "\n",
        "* Makes APIs cleaner, more maintainable, and scalable.\n"
      ],
      "metadata": {
        "id": "3h8lDbuTl9-K"
      }
    },
    {
      "cell_type": "markdown",
      "source": [
        "[23] **What is the role of Flask’s session object?**\n",
        "\n",
        "=> Flask’s session object is a special dictionary-like object used to store data across requests for a single user.\n",
        "\n",
        "**HOW WORKS**\n",
        "\n",
        "* Flask stores session data on the client-side inside a cookie.\n",
        "\n",
        "* To ensure security, the data is signed with a secret key (app.secret_key) so it cannot be tampered with.\n",
        "\n",
        "* By default, Flask uses secure cookies, meaning users can read their session data but cannot modify it without invalidating the signature."
      ],
      "metadata": {
        "id": "tvYIS31pmbaL"
      }
    },
    {
      "cell_type": "markdown",
      "source": [
        "#Practical Questions"
      ],
      "metadata": {
        "id": "8ZM5u4rTm3Uv"
      }
    },
    {
      "cell_type": "code",
      "source": [
        "[1] #How do you create a basic Flask application?\n",
        "\n",
        "from flask import Flask\n",
        "\n",
        "app = Flask(__name__)\n",
        "\n",
        "@app.route('/')\n",
        "def hello():\n",
        "    return 'Hello, World!'\n",
        "\n",
        "if __name__ == '__main__':\n",
        "    app.run()"
      ],
      "metadata": {
        "id": "cTwa1I9p7DYM"
      },
      "execution_count": null,
      "outputs": []
    },
    {
      "cell_type": "code",
      "source": [
        "[2] #How do you serve static files like images or CSS in Flask?\n",
        "\n",
        "from flask import Flask, send_from_directory\n",
        "\n",
        "app = Flask(__name__)\n",
        "\n",
        "@app.route('/static/<path:filename>')\n",
        "def serve_static(filename):\n",
        "    return send_from_directory('static', filename)"
      ],
      "metadata": {
        "id": "b4rPwJ5w7LjD"
      },
      "execution_count": null,
      "outputs": []
    },
    {
      "cell_type": "code",
      "source": [
        "[3] #How do you define different routes with different HTTP methods in Flask?\n",
        "\n",
        "from flask import Flask, request\n",
        "\n",
        "app = Flask(__name__)\n",
        "\n",
        "@app.route('/get', methods=['GET'])\n",
        "def get_data():\n",
        "    return 'This is a GET request'\n",
        "\n",
        "@app.route('/post', methods=['POST'])\n",
        "def post_data():\n",
        "    return 'This is a POST request'\n",
        "\n",
        "    if __name__ == '__main__':\n",
        "        app.run()\n",
        "\n"
      ],
      "metadata": {
        "id": "PnKTMxxX7ZDX"
      },
      "execution_count": null,
      "outputs": []
    },
    {
      "cell_type": "code",
      "source": [
        "[4] #How do you render HTML templates in Flask?\n",
        "\n",
        "from flask import Flask, render_template\n",
        "\n",
        "app = Flask(__name__)\n",
        "\n",
        "@app.route('/')\n",
        "def index():\n",
        "    return render_template('index.html')\n",
        "\n",
        "if __name__ == '__main__':\n",
        "    app.run()\n",
        "\n"
      ],
      "metadata": {
        "id": "-U2a0-Wf7vGH"
      },
      "execution_count": null,
      "outputs": []
    },
    {
      "cell_type": "code",
      "source": [
        "[5] #How can you generate URLs for routes in Flask using url_for?\n",
        "\n",
        "from flask import Flask, url_for\n",
        "\n",
        "app = Flask(__name__)\n",
        "\n",
        "@app.route('/')\n",
        "def index():\n",
        "    return 'This is the home page'\n",
        "\n",
        "@app.route('/about')\n",
        "def about():\n",
        "    return 'This is the about page'\n",
        "\n",
        "    with app.test_request_context():\n",
        "        print(url_for('index'))\n",
        "        print(url_for('about'))\n"
      ],
      "metadata": {
        "id": "qmAf8wsL8IYH"
      },
      "execution_count": null,
      "outputs": []
    },
    {
      "cell_type": "code",
      "source": [
        "[6] #How do you handle forms in Flask?\n",
        "\n",
        "from flask import Flask, render_template, request\n",
        "\n",
        "app = Flask(__name__)\n",
        "\n",
        "@app.route('/')\n",
        "def index():\n",
        "    return render_template('form.html')\n",
        "\n"
      ],
      "metadata": {
        "id": "rk2l-wch8u8Q"
      },
      "execution_count": null,
      "outputs": []
    },
    {
      "cell_type": "code",
      "source": [
        "[7] #How can you validate form data in Flask?\n",
        "\n",
        "from flask import Flask, render_template, request\n",
        "\n",
        "app = Flask(__name__)\n",
        "\n",
        "@app.route('/')\n",
        "def index():\n",
        "    return render_template('form.html')"
      ],
      "metadata": {
        "id": "Y9pDd1wd_tby"
      },
      "execution_count": null,
      "outputs": []
    },
    {
      "cell_type": "code",
      "source": [
        "[8] #How do you manage sessions in Flask?\n",
        "\n",
        "from flask import Flask, session\n",
        "\n",
        "app = Flask(__name__)\n",
        "app.secret_key = 'your_secret_key'\n",
        "\n",
        "@app.route('/')\n",
        "def index():\n",
        "    if 'username' in session:\n",
        "        return f'Hello, {session[\"username\"]}!'"
      ],
      "metadata": {
        "id": "9nbBxjVG_5a6"
      },
      "execution_count": null,
      "outputs": []
    },
    {
      "cell_type": "code",
      "source": [
        "[9] #How do you redirect to a different route in Flask?\n",
        "\n",
        "from flask import Flask, redirect, url_for\n",
        "\n",
        "app = Flask(__name__)\n",
        "\n",
        "@app.route('/')\n",
        "def index():\n",
        "    return redirect(url_for('about'))\n",
        "\n",
        "@app.route('/about')\n",
        "def about():\n",
        "    return 'This is the about page'"
      ],
      "metadata": {
        "id": "fR5xVSsWACvq"
      },
      "execution_count": null,
      "outputs": []
    },
    {
      "cell_type": "code",
      "source": [
        "[10] #How do you handle errors in Flask (e.g., 404)?\n",
        "\n",
        "@app.errorhandler(404)\n",
        "def page_not_found(e):\n",
        "    return \"Page not found!\", 404\n"
      ],
      "metadata": {
        "id": "MHI2S4SRALHp"
      },
      "execution_count": null,
      "outputs": []
    },
    {
      "cell_type": "code",
      "source": [
        "[11] #How do you structure a Flask app using Blueprints?\n",
        "\n",
        "from flask import Flask\n",
        "from blueprints.user import user_bp\n",
        "from blueprints.admin import admin_bp\n",
        "\n",
        "app = Flask(__name__)\n",
        "\n",
        "app.register_blueprint(user_bp, url_prefix='/user')\n",
        "app.register\n"
      ],
      "metadata": {
        "id": "C2Wzj35UAUeJ"
      },
      "execution_count": null,
      "outputs": []
    },
    {
      "cell_type": "code",
      "source": [
        "[12] #How do you define a custom Jinja filter in Flask?\n",
        "\n",
        "@app.template_filter('reverse')\n",
        "def reverse_filter(s):\n",
        "    return s[::-1]\n",
        "\n",
        "# In template: {{ \"Hello\" | reverse }} → olleH\n"
      ],
      "metadata": {
        "id": "G0UN2MxDAgpa"
      },
      "execution_count": null,
      "outputs": []
    },
    {
      "cell_type": "code",
      "source": [
        "[13] #How can you redirect with query parameters in Flask?\n",
        "\n",
        "from flask import request\n",
        "\n",
        "@app.route('/search')\n",
        "def search():\n",
        "    query = request.args.get('q')\n",
        "    return f\"Search for {query}\"\n",
        "\n",
        "@app.route('/goto_search')\n",
        "def goto_search():\n",
        "    return redirect(url_for('search', q='Flask'))\n"
      ],
      "metadata": {
        "id": "s8XIGc0cAoGC"
      },
      "execution_count": null,
      "outputs": []
    },
    {
      "cell_type": "code",
      "source": [
        "[14] #How do you return JSON responses in Flask?\n",
        "\n",
        "from flask import jsonify\n",
        "\n",
        "@app.route('/api/data')\n",
        "def api_data():\n",
        "    data = {'message': 'Hello from the API'}\n",
        "    return jsonify(data)"
      ],
      "metadata": {
        "id": "p6j9xp7lAuSQ"
      },
      "execution_count": null,
      "outputs": []
    },
    {
      "cell_type": "code",
      "source": [
        "[15] #How do you capture URL parameters in Flask?\n",
        "\n",
        "@app.route('/user/<username>')\n",
        "def user_profile(username):\n",
        "    return f\"Welcome, {username}!\"\n"
      ],
      "metadata": {
        "id": "KDgNaZR8A0JY"
      },
      "execution_count": null,
      "outputs": []
    }
  ]
}